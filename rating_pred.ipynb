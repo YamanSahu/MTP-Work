{
 "cells": [
  {
   "cell_type": "code",
   "execution_count": null,
   "metadata": {},
   "outputs": [],
   "source": [
    "import numpy as np\n",
    "import pandas as pd\n",
    "from sklearn.model_selection import train_test_split\n",
    "from sklearn.linear_model import LinearRegression\n",
    "from sklearn.metrics import mean_squared_error\n",
    "\n",
    "# Step 1: Generate random data for ACC features and wrist movement\n",
    "num_windows = 50\n",
    "window_size = 10 * 32  # 10 seconds * 32 frames/second\n",
    "\n",
    "# Generate random ACC features (assuming 3 features)\n",
    "acc_data = np.random.rand(num_windows * window_size, 3)\n",
    "\n",
    "# Generate random wrist movement data\n",
    "wrist_movement_data = np.random.choice([-1, 0, 1], size=(num_windows * window_size, 3), replace=True)\n",
    "\n",
    "# Step 2: Generate random ratings\n",
    "ratings = np.random.randint(1, 6, size=num_windows)\n",
    "\n",
    "# Step 3: Combine ACC features, wrist movement, and ratings into a single DataFrame\n",
    "acc_df = pd.DataFrame(acc_data, columns=['acc_x', 'acc_y', 'acc_z'])\n",
    "wrist_movement_df = pd.DataFrame(wrist_movement_data, columns=['wrist_movement_left', 'wrist_movement_right', 'wrist_movement_straight'])\n",
    "ratings_series = pd.Series(ratings, name='Rating')\n",
    "\n",
    "# Combine all data into a single DataFrame\n",
    "data = pd.concat([acc_df, wrist_movement_df, ratings_series], axis=1)\n",
    "\n",
    "# Step 4: Split the data into training and testing sets\n",
    "X = data.drop('Rating', axis=1)\n",
    "y = data['Rating']\n",
    "X_train, X_test, y_train, y_test = train_test_split(X, y, test_size=0.2, random_state=42)\n",
    "\n",
    "# Step 5: Train a regression model\n",
    "model = LinearRegression()\n",
    "model.fit(X_train, y_train)\n",
    "\n",
    "# Step 6: Evaluate the model's performance\n",
    "y_pred_train = model.predict(X_train)\n",
    "train_rmse = np.sqrt(mean_squared_error(y_train, y_pred_train))\n",
    "print(\"Train RMSE:\", train_rmse)\n",
    "\n",
    "y_pred_test = model.predict(X_test)\n",
    "test_rmse = np.sqrt(mean_squared_error(y_test, y_pred_test))\n",
    "print(\"Test RMSE:\", test_rmse)\n",
    "\n",
    "# Step 7: Predict ratings for new data\n",
    "# Generate new random ACC and wrist movement data\n",
    "new_acc_data = np.random.rand(10 * 32, 3)  # 10 seconds of data\n",
    "new_wrist_movement_data = np.random.choice([-1, 0, 1], size=(10 * 32, 3), replace=True)\n",
    "\n",
    "# Combine new data into a DataFrame\n",
    "new_data = pd.DataFrame(np.concatenate([new_acc_data, new_wrist_movement_data], axis=1),\n",
    "                        columns=['acc_x', 'acc_y', 'acc_z', 'wrist_movement_left', 'wrist_movement_right', 'wrist_movement_straight'])\n",
    "\n",
    "# Predict ratings for new data\n",
    "predicted_ratings = model.predict(new_data)\n",
    "\n",
    "print(\"Predicted ratings for new data:\", predicted_ratings)\n"
   ]
  },
  {
   "cell_type": "code",
   "execution_count": null,
   "metadata": {},
   "outputs": [],
   "source": []
  }
 ],
 "metadata": {
  "kernelspec": {
   "display_name": "Python 3",
   "language": "python",
   "name": "python3"
  },
  "language_info": {
   "codemirror_mode": {
    "name": "ipython",
    "version": 3
   },
   "file_extension": ".py",
   "mimetype": "text/x-python",
   "name": "python",
   "nbconvert_exporter": "python",
   "pygments_lexer": "ipython3",
   "version": "3.11.2"
  }
 },
 "nbformat": 4,
 "nbformat_minor": 2
}
