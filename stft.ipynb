{
 "cells": [
  {
   "cell_type": "code",
   "execution_count": 1,
   "metadata": {},
   "outputs": [],
   "source": [
    "import numpy as np\n",
    "import pandas as pd\n",
    "from scipy.signal import stft\n",
    "import matplotlib.pyplot as plt"
   ]
  },
  {
   "cell_type": "code",
   "execution_count": 2,
   "metadata": {},
   "outputs": [],
   "source": [
    "def loadData(data_set = None):\n",
    "\n",
    "    if (data_set == None):\n",
    "        return None\n",
    "    else:\n",
    "        data = []\n",
    "        fptr = open(data_set, \"r\")\n",
    "        lines = fptr.readlines()\n",
    "        for line in lines:\n",
    "            line = line.strip().split()\n",
    "            for i in range(len(line)):\n",
    "                line[i] = float(line[i])\n",
    "            # print(line)\n",
    "            data.append(line)\n",
    "        \n",
    "        return np.array(data)"
   ]
  },
  {
   "cell_type": "code",
   "execution_count": 5,
   "metadata": {},
   "outputs": [],
   "source": [
    "def giveFreqCoeff(data_set):\n",
    "    \n",
    "    x = data_set[:, 0]\n",
    "    y = data_set[:, 1]\n",
    "    z = data_set[:, 2]\n",
    "\n",
    "    fs = 32\n",
    "    seg_size = 32\n",
    "    hop_size = seg_size // 2\n",
    "\n",
    "    f_x, t_x, Zxx_x = stft(x, fs, nperseg=seg_size, noverlap=hop_size, scaling='psd')\n",
    "    f_y, t_y, Zxx_y = stft(y, fs, nperseg=seg_size, noverlap=hop_size, scaling='psd')\n",
    "    f_z, t_z, Zxx_z = stft(z, fs, nperseg=seg_size, noverlap=hop_size, scaling='psd')\n",
    "\n",
    "    # Magnitude of frequency coefficients for X, Y, Z-axis\n",
    "    freq_coeffs_x = np.abs(Zxx_x)  \n",
    "    freq_coeffs_y = np.abs(Zxx_y)  \n",
    "    freq_coeffs_z = np.abs(Zxx_z)  \n",
    "\n",
    "    freq_coeffs_x = freq_coeffs_x[0]\n",
    "    freq_coeffs_y = freq_coeffs_y[0]\n",
    "    freq_coeffs_z = freq_coeffs_z[0]\n",
    "\n",
    "    return freq_coeffs_x, freq_coeffs_y, freq_coeffs_z, t_x[1] - t_x[0]\n"
   ]
  },
  {
   "cell_type": "code",
   "execution_count": 4,
   "metadata": {},
   "outputs": [],
   "source": [
    "def mergeDataset(data_set, fc_x, fc_y, fc_z, time_diff):\n",
    "\n",
    "    new_data_set = []\n",
    "    length = int(time_diff * 32)\n",
    "    # = min(length, len(fc_x))\n",
    "\n",
    "    # print(len(data_set), len(fc_x))\n",
    "    k = 0\n",
    "    flag = 0\n",
    "    for i in range(0, len(data_set), length):\n",
    "\n",
    "        for j in range(length):\n",
    "\n",
    "            if (i + j) > len(data_set) - 1 or k > len(fc_x):\n",
    "                flag = 1\n",
    "                break\n",
    "\n",
    "            temp = []\n",
    "            temp.append(data_set[i + j][0])\n",
    "            temp.append(data_set[i + j][1])\n",
    "            temp.append(data_set[i + j][2])\n",
    "            temp.append(fc_x[k])\n",
    "            temp.append(fc_y[k])\n",
    "            temp.append(fc_z[k])\n",
    "            temp.append(data_set[i + j][3])\n",
    "\n",
    "            new_data_set.append(temp)\n",
    "\n",
    "            # print(\"somethisng appended\")\n",
    "        \n",
    "        if flag:\n",
    "            break\n",
    "\n",
    "        k += 1\n",
    "\n",
    "    \n",
    "    return new_data_set\n",
    "\n",
    "\n",
    "        "
   ]
  },
  {
   "cell_type": "code",
   "execution_count": 20,
   "metadata": {},
   "outputs": [],
   "source": [
    "data_set_1 = loadData(\"3_19/visual_annotion_3_19.txt\")\n",
    "rating_1 = pd.read_csv(\"3_19/Rating.csv\")\n",
    "rating_1 = rating_1[\"Rating\"]\n"
   ]
  },
  {
   "cell_type": "code",
   "execution_count": 21,
   "metadata": {},
   "outputs": [],
   "source": [
    "freq_coeffs_x, freq_coeffs_y, freq_coeffs_z, time_diff = giveFreqCoeff(data_set_1)"
   ]
  },
  {
   "cell_type": "code",
   "execution_count": 22,
   "metadata": {},
   "outputs": [],
   "source": [
    "new_data_set = mergeDataset(data_set_1, freq_coeffs_x, freq_coeffs_y, freq_coeffs_z, time_diff)"
   ]
  },
  {
   "cell_type": "code",
   "execution_count": 23,
   "metadata": {},
   "outputs": [
    {
     "data": {
      "text/plain": [
       "22336"
      ]
     },
     "execution_count": 23,
     "metadata": {},
     "output_type": "execute_result"
    }
   ],
   "source": [
    "len(data_set_1)"
   ]
  },
  {
   "cell_type": "code",
   "execution_count": 24,
   "metadata": {},
   "outputs": [],
   "source": [
    "def witeNewData(new_data_set):\n",
    "\n",
    "    # print(\"5:12\")  \n",
    "    file = open(\"visual_freq_psd.txt\", \"w\") \n",
    "    for i in range(0, len(new_data_set)):\n",
    "        for elem in new_data_set[i]:\n",
    "            file.write(str(elem) + \"\\t\")\n",
    "        file.write(\"\\n\")\n",
    "        # file.writelines(f\"{new_data_set[i]}\\t{new_data_set[i]}\\t{new_data_set[i]}\\t{new_data_set}\\t\\n\")\n",
    "\n",
    "    file.close()\n",
    "\n",
    "witeNewData(new_data_set)"
   ]
  },
  {
   "cell_type": "code",
   "execution_count": 25,
   "metadata": {},
   "outputs": [
    {
     "data": {
      "text/plain": [
       "22336"
      ]
     },
     "execution_count": 25,
     "metadata": {},
     "output_type": "execute_result"
    }
   ],
   "source": [
    "len(new_data_set)"
   ]
  },
  {
   "cell_type": "code",
   "execution_count": 26,
   "metadata": {},
   "outputs": [],
   "source": [
    "x = data_set_1[:, 0]\n",
    "y = data_set_1[:, 1]\n",
    "z = data_set_1[:, 2]\n",
    "\n",
    "fs = 32\n",
    "seg_size = 32\n",
    "hop_size = seg_size // 2\n",
    "\n",
    "f_x, t_x, Zxx_x = stft(x, fs, nperseg=seg_size, noverlap=hop_size)\n",
    "f_y, t_y, Zxx_y = stft(y, fs, nperseg=seg_size, noverlap=hop_size)\n",
    "f_z, t_z, Zxx_z = stft(z, fs, nperseg=seg_size, noverlap=hop_size)"
   ]
  },
  {
   "cell_type": "code",
   "execution_count": null,
   "metadata": {},
   "outputs": [],
   "source": [
    "fig = plt.figure(figsize=(9, 5))\n",
    "spec = plt.pcolormesh(t_x, f_x, np.abs(Zxx_x))\n",
    "cbar = plt.colorbar(spec)\n",
    "\n",
    "plt.title('STFT Spectrogram')\n",
    "ax = fig.axes[0]\n",
    "ax.grid(True)\n",
    "ax.set_title('STFT Magnitude')\n",
    "\n",
    "ax.set_ylabel('Frequency [Hz]')\n",
    "ax.set_xlabel('Time [sec]')\n",
    "fig.show"
   ]
  },
  {
   "cell_type": "code",
   "execution_count": 129,
   "metadata": {},
   "outputs": [
    {
     "data": {
      "text/plain": [
       "array([0. , 0.5, 1. , 1.5, 2. ])"
      ]
     },
     "execution_count": 129,
     "metadata": {},
     "output_type": "execute_result"
    }
   ],
   "source": [
    "\n",
    "freq_coeffs_x = np.abs(Zxx_x)\n",
    "freq_coeffs_x.shape\n",
    "t_x[:5]"
   ]
  },
  {
   "cell_type": "code",
   "execution_count": 12,
   "metadata": {},
   "outputs": [],
   "source": [
    "# Magnitude of frequency coefficients for X, Y, Z-axis\n",
    "freq_coeffs_x = np.abs(Zxx_x)  \n",
    "freq_coeffs_y = np.abs(Zxx_y)  \n",
    "freq_coeffs_z = np.abs(Zxx_z)  "
   ]
  },
  {
   "cell_type": "code",
   "execution_count": 122,
   "metadata": {},
   "outputs": [
    {
     "data": {
      "text/plain": [
       "(1397,)"
      ]
     },
     "execution_count": 122,
     "metadata": {},
     "output_type": "execute_result"
    }
   ],
   "source": []
  },
  {
   "cell_type": "code",
   "execution_count": 172,
   "metadata": {},
   "outputs": [],
   "source": [
    "freq_coeffs_z = np.mean(freq_coeffs_z, axis=0)\n"
   ]
  },
  {
   "cell_type": "code",
   "execution_count": 143,
   "metadata": {},
   "outputs": [
    {
     "data": {
      "text/plain": [
       "array([2.01334774, 2.6165116 , 2.08104168, 1.54167041, 1.50192039,\n",
       "       2.74821563, 5.52708719, 3.43208069, 3.34656531, 4.25126541])"
      ]
     },
     "execution_count": 143,
     "metadata": {},
     "output_type": "execute_result"
    }
   ],
   "source": [
    "freq_coeffs_z[:10]"
   ]
  },
  {
   "cell_type": "code",
   "execution_count": 42,
   "metadata": {},
   "outputs": [
    {
     "name": "stdout",
     "output_type": "stream",
     "text": [
      "[-0.25961899  0.38714278 -0.59462572 ...  0.02012856  2.98186382\n",
      " -0.37143739] [[0.12698784 0.0495531  0.10002736 ... 0.02178528 0.14104729 0.00299342]\n",
      " [0.11567441 0.04166631 0.09738974 ... 0.16406773 0.22797895 0.05506835]\n",
      " [0.08274473 0.0964906  0.11445873 ... 0.14021225 0.14410543 0.07773322]\n",
      " ...\n",
      " [0.03408262 0.1867545  0.0890008  ... 0.11873832 0.0926552  0.04138756]\n",
      " [0.0297205  0.22842615 0.0494959  ... 0.18131414 0.13060486 0.07925463]\n",
      " [0.01005903 0.26131465 0.01842983 ... 0.19528973 0.16200093 0.12032045]]\n"
     ]
    }
   ],
   "source": [
    "print(x, freq_coeffs_x)"
   ]
  },
  {
   "cell_type": "code",
   "execution_count": 45,
   "metadata": {},
   "outputs": [
    {
     "data": {
      "text/plain": [
       "3200"
      ]
     },
     "execution_count": 45,
     "metadata": {},
     "output_type": "execute_result"
    }
   ],
   "source": [
    "len(x)"
   ]
  },
  {
   "cell_type": "code",
   "execution_count": 50,
   "metadata": {},
   "outputs": [
    {
     "data": {
      "text/plain": [
       "65"
      ]
     },
     "execution_count": 50,
     "metadata": {},
     "output_type": "execute_result"
    }
   ],
   "source": [
    "len(freq_coeffs_x[50])"
   ]
  },
  {
   "cell_type": "code",
   "execution_count": 13,
   "metadata": {},
   "outputs": [
    {
     "data": {
      "text/plain": [
       "(51, 448)"
      ]
     },
     "execution_count": 13,
     "metadata": {},
     "output_type": "execute_result"
    }
   ],
   "source": [
    "freq_coeffs_x.shape"
   ]
  },
  {
   "cell_type": "code",
   "execution_count": null,
   "metadata": {},
   "outputs": [],
   "source": []
  }
 ],
 "metadata": {
  "kernelspec": {
   "display_name": "Python 3",
   "language": "python",
   "name": "python3"
  },
  "language_info": {
   "codemirror_mode": {
    "name": "ipython",
    "version": 3
   },
   "file_extension": ".py",
   "mimetype": "text/x-python",
   "name": "python",
   "nbconvert_exporter": "python",
   "pygments_lexer": "ipython3",
   "version": "3.11.2"
  }
 },
 "nbformat": 4,
 "nbformat_minor": 2
}
