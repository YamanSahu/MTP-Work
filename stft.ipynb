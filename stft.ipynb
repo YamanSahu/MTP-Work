{
 "cells": [
  {
   "cell_type": "code",
   "execution_count": 1,
   "metadata": {},
   "outputs": [],
   "source": [
    "import numpy as np\n",
    "import pandas as pd\n",
    "from scipy.signal import stft\n",
    "from scipy import stats\n",
    "from collections import Counter\n",
    "import matplotlib.pyplot as plt"
   ]
  },
  {
   "cell_type": "code",
   "execution_count": 2,
   "metadata": {},
   "outputs": [],
   "source": [
    "def loadData(data_set = None):\n",
    "\n",
    "    if (data_set == None):\n",
    "        return None\n",
    "    else:\n",
    "        data = []\n",
    "        fptr = open(data_set, \"r\")\n",
    "        lines = fptr.readlines()\n",
    "        for line in lines:\n",
    "            line = line.strip().split()\n",
    "            for i in range(len(line)):\n",
    "                line[i] = float(line[i])\n",
    "            # print(line)\n",
    "            data.append(line)\n",
    "        \n",
    "        return np.array(data)"
   ]
  },
  {
   "cell_type": "code",
   "execution_count": 35,
   "metadata": {},
   "outputs": [],
   "source": [
    "def giveFreqCoeff(data_set):\n",
    "    \n",
    "    x = data_set[:, 0]\n",
    "    y = data_set[:, 1]\n",
    "    z = data_set[:, 2]\n",
    "\n",
    "    fs = 32\n",
    "    seg_size = 32\n",
    "    hop_size = seg_size // 2\n",
    "\n",
    "    f_x, t_x, Zxx_x = stft(x, fs, nperseg=seg_size, noverlap=hop_size)\n",
    "    f_y, t_y, Zxx_y = stft(y, fs, nperseg=seg_size, noverlap=hop_size)\n",
    "    f_z, t_z, Zxx_z = stft(z, fs, nperseg=seg_size, noverlap=hop_size)\n",
    "\n",
    "    # Magnitude of frequency coefficients for X, Y, Z-axis\n",
    "    freq_coeffs_x = np.abs(Zxx_x)  \n",
    "    freq_coeffs_y = np.abs(Zxx_y)  \n",
    "    freq_coeffs_z = np.abs(Zxx_z)  \n",
    "\n",
    "    freq_coeffs_x = freq_coeffs_x[0]\n",
    "    freq_coeffs_y = freq_coeffs_y[0]\n",
    "    freq_coeffs_z = freq_coeffs_z[0]\n",
    "\n",
    "    return freq_coeffs_x, freq_coeffs_y, freq_coeffs_z, t_x[1] - t_x[0]\n"
   ]
  },
  {
   "cell_type": "code",
   "execution_count": 4,
   "metadata": {},
   "outputs": [],
   "source": [
    "def mergeDataset(data_set, fc_x, fc_y, fc_z, time_diff, rating):\n",
    "\n",
    "    new_data_set = []\n",
    "    length = int(time_diff * 32)\n",
    "    # = min(length, len(fc_x))\n",
    "\n",
    "    time = 0\n",
    "    idx = 0\n",
    "    l = 0\n",
    "\n",
    "    for i in range(0, len(data_set), length):\n",
    "\n",
    "        temp = []\n",
    "        x = data_set[i: i + 32, 0]\n",
    "        y = data_set[i: i + 32, 1]\n",
    "        z = data_set[i: i + 32, 2]\n",
    "        op = data_set[i: i + 32, 3]\n",
    "        \n",
    "        \n",
    "        find_most_common = lambda arr: max(Counter(arr).items(), key=lambda x: x[1])[0]\n",
    "        op = find_most_common(op)\n",
    "\n",
    "        # adding mean to data set\n",
    "        temp.append(np.mean(x))\n",
    "        temp.append(np.mean(y))\n",
    "        temp.append(np.mean(z))\n",
    "\n",
    "        # adding median to the data set\n",
    "        temp.append(np.median(x))\n",
    "        temp.append(np.median(y))\n",
    "        temp.append(np.median(z))\n",
    "\n",
    "        # adding mode to the data set\n",
    "        temp.append(stats.mode(x, keepdims=True)[0][0])\n",
    "        temp.append(stats.mode(y, keepdims=True)[0][0])\n",
    "        temp.append(stats.mode(z, keepdims=True)[0][0])\n",
    "\n",
    "        # adding the standard deviation to the data set\n",
    "        temp.append(np.std(x))\n",
    "        temp.append(np.std(y))\n",
    "        temp.append(np.std(z))\n",
    "\n",
    "        # adding the quantile @25 in the data set\n",
    "        iq_1 = np.quantile(x, .25)\n",
    "        iq_2 = np.quantile(y, .25)\n",
    "        iq_3 = np.quantile(z, .25)\n",
    "        temp.append(iq_1)\n",
    "        temp.append(iq_2)\n",
    "        temp.append(iq_3)\n",
    "\n",
    "        # adding the quantile @50 in the data set\n",
    "        temp.append(np.quantile(x, .5))\n",
    "        temp.append(np.quantile(y, .5))\n",
    "        temp.append(np.quantile(z, .5))\n",
    "\n",
    "        # adding the quantile @75 in the data set\n",
    "        iq_1_ = np.quantile(x, .75)\n",
    "        iq_2_ = np.quantile(y, .75)\n",
    "        iq_3_ = np.quantile(z, .75)\n",
    "        temp.append(iq_1_)\n",
    "        temp.append(iq_2_)\n",
    "        temp.append(iq_3_)\n",
    "\n",
    "        # adding inter quantile in the data set\n",
    "        temp.append(iq_1_ - iq_1)\n",
    "        temp.append(iq_2_ - iq_2)\n",
    "        temp.append(iq_3_ - iq_3)\n",
    "\n",
    "\n",
    "        temp.append(fc_x[l])\n",
    "        temp.append(fc_y[l])\n",
    "        temp.append(fc_z[l])\n",
    "\n",
    "        # adding the output \n",
    "        # temp.append(op)\n",
    "\n",
    "        temp.append(rating[idx])\n",
    "        idx += 1\n",
    "\n",
    "        new_data_set.append(temp)\n",
    "\n",
    "        l += 1\n",
    "\n",
    "        if idx == len(rating):\n",
    "            break\n",
    "        \n",
    "        if l >= len(fc_x) or (i + 32) >= len(data_set):\n",
    "            break\n",
    "\n",
    "    \n",
    "    return new_data_set"
   ]
  },
  {
   "cell_type": "code",
   "execution_count": 36,
   "metadata": {},
   "outputs": [],
   "source": [
    "data_set_1 = loadData(\"Australia/visual_annotation_aus.txt\")\n",
    "rating_1 = pd.read_csv(\"Australia/Rating.csv\")\n",
    "rating_1 = rating_1[\"Rating\"].to_numpy()"
   ]
  },
  {
   "cell_type": "code",
   "execution_count": 37,
   "metadata": {},
   "outputs": [],
   "source": [
    "freq_coeffs_x, freq_coeffs_y, freq_coeffs_z, time_diff = giveFreqCoeff(data_set_1)"
   ]
  },
  {
   "cell_type": "code",
   "execution_count": 38,
   "metadata": {},
   "outputs": [],
   "source": [
    "new_data_set = mergeDataset(data_set_1, freq_coeffs_x, freq_coeffs_y, freq_coeffs_z, time_diff, rating_1)"
   ]
  },
  {
   "cell_type": "code",
   "execution_count": null,
   "metadata": {},
   "outputs": [],
   "source": []
  },
  {
   "cell_type": "code",
   "execution_count": 39,
   "metadata": {},
   "outputs": [],
   "source": [
    "def witeNewData(new_data_set):\n",
    "\n",
    "    # print(\"5:12\")  \n",
    "    file = open(\"visual_freq_rat.txt\", \"w\") \n",
    "    for i in range(0, len(new_data_set)):\n",
    "        for elem in new_data_set[i]:\n",
    "            file.write(str(elem) + \"\\t\")\n",
    "        file.write(\"\\n\")\n",
    "        # file.writelines(f\"{new_data_set[i]}\\t{new_data_set[i]}\\t{new_data_set[i]}\\t{new_data_set}\\t\\n\")\n",
    "\n",
    "    file.close()\n",
    "\n",
    "witeNewData(new_data_set)"
   ]
  },
  {
   "cell_type": "code",
   "execution_count": 30,
   "metadata": {},
   "outputs": [
    {
     "data": {
      "text/plain": [
       "17120"
      ]
     },
     "execution_count": 30,
     "metadata": {},
     "output_type": "execute_result"
    }
   ],
   "source": [
    "len(new_data_set)"
   ]
  },
  {
   "cell_type": "code",
   "execution_count": 26,
   "metadata": {},
   "outputs": [],
   "source": [
    "x = data_set_1[:, 0]\n",
    "y = data_set_1[:, 1]\n",
    "z = data_set_1[:, 2]\n",
    "\n",
    "fs = 32\n",
    "seg_size = 32\n",
    "hop_size = seg_size // 2\n",
    "\n",
    "f_x, t_x, Zxx_x = stft(x, fs, nperseg=seg_size, noverlap=hop_size)\n",
    "f_y, t_y, Zxx_y = stft(y, fs, nperseg=seg_size, noverlap=hop_size)\n",
    "f_z, t_z, Zxx_z = stft(z, fs, nperseg=seg_size, noverlap=hop_size)"
   ]
  },
  {
   "cell_type": "code",
   "execution_count": null,
   "metadata": {},
   "outputs": [],
   "source": [
    "fig = plt.figure(figsize=(9, 5))\n",
    "spec = plt.pcolormesh(t_x, f_x, np.abs(Zxx_x))\n",
    "cbar = plt.colorbar(spec)\n",
    "\n",
    "plt.title('STFT Spectrogram')\n",
    "ax = fig.axes[0]\n",
    "ax.grid(True)\n",
    "ax.set_title('STFT Magnitude')\n",
    "\n",
    "ax.set_ylabel('Frequency [Hz]')\n",
    "ax.set_xlabel('Time [sec]')\n",
    "fig.show"
   ]
  },
  {
   "cell_type": "code",
   "execution_count": 129,
   "metadata": {},
   "outputs": [
    {
     "data": {
      "text/plain": [
       "array([0. , 0.5, 1. , 1.5, 2. ])"
      ]
     },
     "execution_count": 129,
     "metadata": {},
     "output_type": "execute_result"
    }
   ],
   "source": [
    "\n",
    "freq_coeffs_x = np.abs(Zxx_x)\n",
    "freq_coeffs_x.shape\n",
    "t_x[:5]"
   ]
  },
  {
   "cell_type": "code",
   "execution_count": 12,
   "metadata": {},
   "outputs": [],
   "source": [
    "# Magnitude of frequency coefficients for X, Y, Z-axis\n",
    "freq_coeffs_x = np.abs(Zxx_x)  \n",
    "freq_coeffs_y = np.abs(Zxx_y)  \n",
    "freq_coeffs_z = np.abs(Zxx_z)  "
   ]
  },
  {
   "cell_type": "code",
   "execution_count": 122,
   "metadata": {},
   "outputs": [
    {
     "data": {
      "text/plain": [
       "(1397,)"
      ]
     },
     "execution_count": 122,
     "metadata": {},
     "output_type": "execute_result"
    }
   ],
   "source": []
  },
  {
   "cell_type": "code",
   "execution_count": 172,
   "metadata": {},
   "outputs": [],
   "source": [
    "freq_coeffs_z = np.mean(freq_coeffs_z, axis=0)\n"
   ]
  },
  {
   "cell_type": "code",
   "execution_count": 143,
   "metadata": {},
   "outputs": [
    {
     "data": {
      "text/plain": [
       "array([2.01334774, 2.6165116 , 2.08104168, 1.54167041, 1.50192039,\n",
       "       2.74821563, 5.52708719, 3.43208069, 3.34656531, 4.25126541])"
      ]
     },
     "execution_count": 143,
     "metadata": {},
     "output_type": "execute_result"
    }
   ],
   "source": [
    "freq_coeffs_z[:10]"
   ]
  },
  {
   "cell_type": "code",
   "execution_count": 42,
   "metadata": {},
   "outputs": [
    {
     "name": "stdout",
     "output_type": "stream",
     "text": [
      "[-0.25961899  0.38714278 -0.59462572 ...  0.02012856  2.98186382\n",
      " -0.37143739] [[0.12698784 0.0495531  0.10002736 ... 0.02178528 0.14104729 0.00299342]\n",
      " [0.11567441 0.04166631 0.09738974 ... 0.16406773 0.22797895 0.05506835]\n",
      " [0.08274473 0.0964906  0.11445873 ... 0.14021225 0.14410543 0.07773322]\n",
      " ...\n",
      " [0.03408262 0.1867545  0.0890008  ... 0.11873832 0.0926552  0.04138756]\n",
      " [0.0297205  0.22842615 0.0494959  ... 0.18131414 0.13060486 0.07925463]\n",
      " [0.01005903 0.26131465 0.01842983 ... 0.19528973 0.16200093 0.12032045]]\n"
     ]
    }
   ],
   "source": [
    "print(x, freq_coeffs_x)"
   ]
  },
  {
   "cell_type": "code",
   "execution_count": 45,
   "metadata": {},
   "outputs": [
    {
     "data": {
      "text/plain": [
       "3200"
      ]
     },
     "execution_count": 45,
     "metadata": {},
     "output_type": "execute_result"
    }
   ],
   "source": [
    "len(x)"
   ]
  },
  {
   "cell_type": "code",
   "execution_count": 50,
   "metadata": {},
   "outputs": [
    {
     "data": {
      "text/plain": [
       "65"
      ]
     },
     "execution_count": 50,
     "metadata": {},
     "output_type": "execute_result"
    }
   ],
   "source": [
    "len(freq_coeffs_x[50])"
   ]
  },
  {
   "cell_type": "code",
   "execution_count": 13,
   "metadata": {},
   "outputs": [
    {
     "data": {
      "text/plain": [
       "(51, 448)"
      ]
     },
     "execution_count": 13,
     "metadata": {},
     "output_type": "execute_result"
    }
   ],
   "source": [
    "freq_coeffs_x.shape"
   ]
  },
  {
   "cell_type": "code",
   "execution_count": null,
   "metadata": {},
   "outputs": [],
   "source": []
  }
 ],
 "metadata": {
  "kernelspec": {
   "display_name": "Python 3",
   "language": "python",
   "name": "python3"
  },
  "language_info": {
   "codemirror_mode": {
    "name": "ipython",
    "version": 3
   },
   "file_extension": ".py",
   "mimetype": "text/x-python",
   "name": "python",
   "nbconvert_exporter": "python",
   "pygments_lexer": "ipython3",
   "version": "3.11.2"
  }
 },
 "nbformat": 4,
 "nbformat_minor": 2
}
