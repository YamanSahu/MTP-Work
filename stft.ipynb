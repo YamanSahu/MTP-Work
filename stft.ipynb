{
 "cells": [
  {
   "cell_type": "code",
   "execution_count": 41,
   "metadata": {},
   "outputs": [],
   "source": [
    "import numpy as np\n",
    "from scipy.signal import stft"
   ]
  },
  {
   "cell_type": "code",
   "execution_count": 42,
   "metadata": {},
   "outputs": [],
   "source": [
    "def loadData(data_set = None):\n",
    "\n",
    "    if (data_set == None):\n",
    "        return None\n",
    "    else:\n",
    "        data = []\n",
    "        fptr = open(data_set, \"r\")\n",
    "        lines = fptr.readlines()\n",
    "        for line in lines:\n",
    "            line = line.strip().split()\n",
    "            for i in range(len(line)):\n",
    "                line[i] = float(line[i])\n",
    "            # print(line)\n",
    "            data.append(line)\n",
    "        \n",
    "        return np.array(data)"
   ]
  },
  {
   "cell_type": "code",
   "execution_count": 129,
   "metadata": {},
   "outputs": [],
   "source": [
    "def giveFreqCoeff(data_set):\n",
    "    \n",
    "    x = data_set[:, 0]\n",
    "    y = data_set[:, 1]\n",
    "    z = data_set[:, 2]\n",
    "\n",
    "    fs = 32\n",
    "    seg_size = 32\n",
    "    hop_size = seg_size // 2\n",
    "\n",
    "    f_x, t_x, Zxx_x = stft(x, fs, nperseg=seg_size, noverlap=hop_size)\n",
    "    f_y, t_y, Zxx_y = stft(y, fs, nperseg=seg_size, noverlap=hop_size)\n",
    "    f_z, t_z, Zxx_z = stft(z, fs, nperseg=seg_size, noverlap=hop_size)\n",
    "\n",
    "    # Magnitude of frequency coefficients for X, Y, Z-axis\n",
    "    freq_coeffs_x = np.abs(Zxx_x)  \n",
    "    freq_coeffs_y = np.abs(Zxx_y)  \n",
    "    freq_coeffs_z = np.abs(Zxx_z)  \n",
    "\n",
    "    freq_coeffs_x = np.mean(freq_coeffs_x, axis=0)\n",
    "    freq_coeffs_y = np.mean(freq_coeffs_y, axis=0)\n",
    "    freq_coeffs_z = np.mean(freq_coeffs_z, axis=0)\n",
    "\n",
    "    return freq_coeffs_x, freq_coeffs_y, freq_coeffs_z\n"
   ]
  },
  {
   "cell_type": "code",
   "execution_count": 130,
   "metadata": {},
   "outputs": [],
   "source": [
    "def mergeDataset(data_set, fc_x, fc_y, fc_z):\n",
    "\n",
    "    new_data_set = []\n",
    "    length = len(data_set) // 32\n",
    "    min_lenght = min(length, len(fc_x))\n",
    "\n",
    "    k = 0\n",
    "    for i in range(len(data_set), 32):\n",
    "\n",
    "        for j in range(32):\n",
    "\n",
    "            if i + j > len(data_set) or k > len(fc_x):\n",
    "                break\n",
    "\n",
    "            temp = []\n",
    "            temp.append(data_set[i + j][0])\n",
    "            temp.append(data_set[i + j][1])\n",
    "            temp.append(data_set[i + j][2])\n",
    "            temp.append(fc_x[k])\n",
    "            temp.append(fc_y[k])\n",
    "            temp.append(fc_z[k])\n",
    "\n",
    "            new_data_set.append(temp)\n",
    "\n",
    "        k += 1\n",
    "\n",
    "    \n",
    "    return new_data_set\n",
    "\n",
    "\n",
    "        "
   ]
  },
  {
   "cell_type": "code",
   "execution_count": 131,
   "metadata": {},
   "outputs": [],
   "source": [
    "data_set_1 = loadData(\"5_11/visual_annotion_5_11.txt\")"
   ]
  },
  {
   "cell_type": "code",
   "execution_count": 132,
   "metadata": {},
   "outputs": [],
   "source": [
    "freq_coeffs_x, freq_coeffs_y, freq_coeffs_z = giveFreqCoeff(data_set_1)"
   ]
  },
  {
   "cell_type": "code",
   "execution_count": 134,
   "metadata": {},
   "outputs": [
    {
     "name": "stdout",
     "output_type": "stream",
     "text": [
      "[6.90520891 5.63900307 5.48786121 5.3780034  5.44275766]\n"
     ]
    }
   ],
   "source": [
    "print(freq_coeffs_x[:5])"
   ]
  },
  {
   "cell_type": "code",
   "execution_count": 135,
   "metadata": {},
   "outputs": [],
   "source": [
    "x = data_set_1[:, 0]\n",
    "y = data_set_1[:, 1]\n",
    "z = data_set_1[:, 2]\n",
    "\n",
    "fs = 32\n",
    "seg_size = 32\n",
    "hop_size = seg_size // 2\n",
    "\n",
    "f_x, t_x, Zxx_x = stft(x, fs, nperseg=seg_size, noverlap=hop_size)\n",
    "f_y, t_y, Zxx_y = stft(y, fs, nperseg=seg_size, noverlap=hop_size)\n",
    "f_z, t_z, Zxx_z = stft(z, fs, nperseg=seg_size, noverlap=hop_size)"
   ]
  },
  {
   "cell_type": "code",
   "execution_count": 136,
   "metadata": {},
   "outputs": [],
   "source": [
    "# Magnitude of frequency coefficients for X, Y, Z-axis\n",
    "freq_coeffs_x = np.abs(Zxx_x)  \n",
    "freq_coeffs_y = np.abs(Zxx_y)  \n",
    "freq_coeffs_z = np.abs(Zxx_z)  "
   ]
  },
  {
   "cell_type": "code",
   "execution_count": 122,
   "metadata": {},
   "outputs": [
    {
     "data": {
      "text/plain": [
       "(1397,)"
      ]
     },
     "execution_count": 122,
     "metadata": {},
     "output_type": "execute_result"
    }
   ],
   "source": []
  },
  {
   "cell_type": "code",
   "execution_count": 138,
   "metadata": {},
   "outputs": [],
   "source": [
    "freq_coeffs_x = np.mean(freq_coeffs_x, axis=0)\n"
   ]
  },
  {
   "cell_type": "code",
   "execution_count": 139,
   "metadata": {},
   "outputs": [
    {
     "data": {
      "text/plain": [
       "array([6.90520891, 5.63900307, 5.48786121, 5.3780034 , 5.44275766,\n",
       "       6.02830456, 5.02156329, 4.64820687, 4.4404538 , 3.71434727])"
      ]
     },
     "execution_count": 139,
     "metadata": {},
     "output_type": "execute_result"
    }
   ],
   "source": [
    "freq_coeffs_x[:10]"
   ]
  },
  {
   "cell_type": "code",
   "execution_count": 42,
   "metadata": {},
   "outputs": [
    {
     "name": "stdout",
     "output_type": "stream",
     "text": [
      "[-0.25961899  0.38714278 -0.59462572 ...  0.02012856  2.98186382\n",
      " -0.37143739] [[0.12698784 0.0495531  0.10002736 ... 0.02178528 0.14104729 0.00299342]\n",
      " [0.11567441 0.04166631 0.09738974 ... 0.16406773 0.22797895 0.05506835]\n",
      " [0.08274473 0.0964906  0.11445873 ... 0.14021225 0.14410543 0.07773322]\n",
      " ...\n",
      " [0.03408262 0.1867545  0.0890008  ... 0.11873832 0.0926552  0.04138756]\n",
      " [0.0297205  0.22842615 0.0494959  ... 0.18131414 0.13060486 0.07925463]\n",
      " [0.01005903 0.26131465 0.01842983 ... 0.19528973 0.16200093 0.12032045]]\n"
     ]
    }
   ],
   "source": [
    "print(x, freq_coeffs_x)"
   ]
  },
  {
   "cell_type": "code",
   "execution_count": 45,
   "metadata": {},
   "outputs": [
    {
     "data": {
      "text/plain": [
       "3200"
      ]
     },
     "execution_count": 45,
     "metadata": {},
     "output_type": "execute_result"
    }
   ],
   "source": [
    "len(x)"
   ]
  },
  {
   "cell_type": "code",
   "execution_count": 50,
   "metadata": {},
   "outputs": [
    {
     "data": {
      "text/plain": [
       "65"
      ]
     },
     "execution_count": 50,
     "metadata": {},
     "output_type": "execute_result"
    }
   ],
   "source": [
    "len(freq_coeffs_x[50])"
   ]
  },
  {
   "cell_type": "code",
   "execution_count": 51,
   "metadata": {},
   "outputs": [
    {
     "name": "stdout",
     "output_type": "stream",
     "text": [
      "Shape of Zxx: (51, 65)\n"
     ]
    }
   ],
   "source": [
    "print(\"Shape of Zxx:\", Zxx_x.shape)"
   ]
  },
  {
   "cell_type": "code",
   "execution_count": 53,
   "metadata": {},
   "outputs": [
    {
     "data": {
      "text/plain": [
       "array([ 0.  ,  0.32,  0.64,  0.96,  1.28,  1.6 ,  1.92,  2.24,  2.56,\n",
       "        2.88,  3.2 ,  3.52,  3.84,  4.16,  4.48,  4.8 ,  5.12,  5.44,\n",
       "        5.76,  6.08,  6.4 ,  6.72,  7.04,  7.36,  7.68,  8.  ,  8.32,\n",
       "        8.64,  8.96,  9.28,  9.6 ,  9.92, 10.24, 10.56, 10.88, 11.2 ,\n",
       "       11.52, 11.84, 12.16, 12.48, 12.8 , 13.12, 13.44, 13.76, 14.08,\n",
       "       14.4 , 14.72, 15.04, 15.36, 15.68, 16.  ])"
      ]
     },
     "execution_count": 53,
     "metadata": {},
     "output_type": "execute_result"
    }
   ],
   "source": [
    "f"
   ]
  },
  {
   "cell_type": "code",
   "execution_count": 54,
   "metadata": {},
   "outputs": [
    {
     "data": {
      "text/plain": [
       "array([  0.    ,   1.5625,   3.125 ,   4.6875,   6.25  ,   7.8125,\n",
       "         9.375 ,  10.9375,  12.5   ,  14.0625,  15.625 ,  17.1875,\n",
       "        18.75  ,  20.3125,  21.875 ,  23.4375,  25.    ,  26.5625,\n",
       "        28.125 ,  29.6875,  31.25  ,  32.8125,  34.375 ,  35.9375,\n",
       "        37.5   ,  39.0625,  40.625 ,  42.1875,  43.75  ,  45.3125,\n",
       "        46.875 ,  48.4375,  50.    ,  51.5625,  53.125 ,  54.6875,\n",
       "        56.25  ,  57.8125,  59.375 ,  60.9375,  62.5   ,  64.0625,\n",
       "        65.625 ,  67.1875,  68.75  ,  70.3125,  71.875 ,  73.4375,\n",
       "        75.    ,  76.5625,  78.125 ,  79.6875,  81.25  ,  82.8125,\n",
       "        84.375 ,  85.9375,  87.5   ,  89.0625,  90.625 ,  92.1875,\n",
       "        93.75  ,  95.3125,  96.875 ,  98.4375, 100.    , 101.5625,\n",
       "       103.125 , 104.6875, 106.25  , 107.8125, 109.375 , 110.9375,\n",
       "       112.5   , 114.0625, 115.625 , 117.1875, 118.75  , 120.3125,\n",
       "       121.875 , 123.4375, 125.    , 126.5625, 128.125 , 129.6875,\n",
       "       131.25  , 132.8125, 134.375 , 135.9375, 137.5   , 139.0625,\n",
       "       140.625 , 142.1875, 143.75  , 145.3125, 146.875 , 148.4375,\n",
       "       150.    , 151.5625, 153.125 , 154.6875, 156.25  , 157.8125,\n",
       "       159.375 , 160.9375, 162.5   , 164.0625, 165.625 , 167.1875,\n",
       "       168.75  , 170.3125, 171.875 , 173.4375, 175.    , 176.5625,\n",
       "       178.125 , 179.6875, 181.25  , 182.8125, 184.375 , 185.9375,\n",
       "       187.5   , 189.0625, 190.625 , 192.1875, 193.75  , 195.3125,\n",
       "       196.875 , 198.4375, 200.    , 201.5625, 203.125 , 204.6875,\n",
       "       206.25  , 207.8125, 209.375 , 210.9375, 212.5   , 214.0625,\n",
       "       215.625 , 217.1875, 218.75  , 220.3125, 221.875 , 223.4375,\n",
       "       225.    , 226.5625, 228.125 , 229.6875, 231.25  , 232.8125,\n",
       "       234.375 , 235.9375, 237.5   , 239.0625, 240.625 , 242.1875,\n",
       "       243.75  , 245.3125, 246.875 , 248.4375, 250.    , 251.5625,\n",
       "       253.125 , 254.6875, 256.25  , 257.8125, 259.375 , 260.9375,\n",
       "       262.5   , 264.0625, 265.625 , 267.1875, 268.75  , 270.3125,\n",
       "       271.875 , 273.4375, 275.    , 276.5625, 278.125 , 279.6875,\n",
       "       281.25  , 282.8125, 284.375 , 285.9375, 287.5   , 289.0625,\n",
       "       290.625 , 292.1875, 293.75  , 295.3125, 296.875 , 298.4375,\n",
       "       300.    , 301.5625, 303.125 , 304.6875, 306.25  , 307.8125,\n",
       "       309.375 , 310.9375, 312.5   , 314.0625, 315.625 , 317.1875,\n",
       "       318.75  , 320.3125, 321.875 , 323.4375, 325.    , 326.5625,\n",
       "       328.125 , 329.6875, 331.25  , 332.8125, 334.375 , 335.9375,\n",
       "       337.5   , 339.0625, 340.625 , 342.1875, 343.75  , 345.3125,\n",
       "       346.875 , 348.4375, 350.    , 351.5625, 353.125 , 354.6875,\n",
       "       356.25  , 357.8125, 359.375 , 360.9375, 362.5   , 364.0625,\n",
       "       365.625 , 367.1875, 368.75  , 370.3125, 371.875 , 373.4375,\n",
       "       375.    , 376.5625, 378.125 , 379.6875, 381.25  , 382.8125,\n",
       "       384.375 , 385.9375, 387.5   , 389.0625, 390.625 , 392.1875,\n",
       "       393.75  , 395.3125, 396.875 , 398.4375, 400.    , 401.5625,\n",
       "       403.125 , 404.6875, 406.25  , 407.8125, 409.375 , 410.9375,\n",
       "       412.5   , 414.0625, 415.625 , 417.1875, 418.75  , 420.3125,\n",
       "       421.875 , 423.4375, 425.    , 426.5625, 428.125 , 429.6875,\n",
       "       431.25  , 432.8125, 434.375 , 435.9375, 437.5   , 439.0625,\n",
       "       440.625 , 442.1875, 443.75  , 445.3125, 446.875 , 448.4375,\n",
       "       450.    , 451.5625, 453.125 , 454.6875, 456.25  , 457.8125,\n",
       "       459.375 , 460.9375, 462.5   , 464.0625, 465.625 , 467.1875,\n",
       "       468.75  , 470.3125, 471.875 , 473.4375, 475.    , 476.5625,\n",
       "       478.125 , 479.6875, 481.25  , 482.8125, 484.375 , 485.9375,\n",
       "       487.5   , 489.0625, 490.625 , 492.1875, 493.75  , 495.3125,\n",
       "       496.875 , 498.4375, 500.    , 501.5625, 503.125 , 504.6875,\n",
       "       506.25  , 507.8125, 509.375 , 510.9375, 512.5   , 514.0625,\n",
       "       515.625 , 517.1875, 518.75  , 520.3125, 521.875 , 523.4375,\n",
       "       525.    , 526.5625, 528.125 , 529.6875, 531.25  , 532.8125,\n",
       "       534.375 , 535.9375, 537.5   , 539.0625, 540.625 , 542.1875,\n",
       "       543.75  , 545.3125, 546.875 , 548.4375, 550.    , 551.5625,\n",
       "       553.125 , 554.6875, 556.25  , 557.8125, 559.375 , 560.9375,\n",
       "       562.5   , 564.0625, 565.625 , 567.1875, 568.75  , 570.3125,\n",
       "       571.875 , 573.4375, 575.    , 576.5625, 578.125 , 579.6875,\n",
       "       581.25  , 582.8125, 584.375 , 585.9375, 587.5   , 589.0625,\n",
       "       590.625 , 592.1875, 593.75  , 595.3125, 596.875 , 598.4375,\n",
       "       600.    , 601.5625, 603.125 , 604.6875, 606.25  , 607.8125,\n",
       "       609.375 , 610.9375, 612.5   , 614.0625, 615.625 , 617.1875,\n",
       "       618.75  , 620.3125, 621.875 , 623.4375, 625.    , 626.5625,\n",
       "       628.125 , 629.6875, 631.25  , 632.8125, 634.375 , 635.9375,\n",
       "       637.5   , 639.0625, 640.625 , 642.1875, 643.75  , 645.3125,\n",
       "       646.875 , 648.4375, 650.    , 651.5625, 653.125 , 654.6875,\n",
       "       656.25  , 657.8125, 659.375 , 660.9375, 662.5   , 664.0625,\n",
       "       665.625 , 667.1875, 668.75  , 670.3125, 671.875 , 673.4375,\n",
       "       675.    , 676.5625, 678.125 , 679.6875, 681.25  , 682.8125,\n",
       "       684.375 , 685.9375, 687.5   , 689.0625, 690.625 , 692.1875,\n",
       "       693.75  , 695.3125, 696.875 , 698.4375])"
      ]
     },
     "execution_count": 54,
     "metadata": {},
     "output_type": "execute_result"
    }
   ],
   "source": [
    "t"
   ]
  },
  {
   "cell_type": "code",
   "execution_count": null,
   "metadata": {},
   "outputs": [],
   "source": []
  }
 ],
 "metadata": {
  "kernelspec": {
   "display_name": "Python 3",
   "language": "python",
   "name": "python3"
  },
  "language_info": {
   "codemirror_mode": {
    "name": "ipython",
    "version": 3
   },
   "file_extension": ".py",
   "mimetype": "text/x-python",
   "name": "python",
   "nbconvert_exporter": "python",
   "pygments_lexer": "ipython3",
   "version": "3.11.2"
  }
 },
 "nbformat": 4,
 "nbformat_minor": 2
}
