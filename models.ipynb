{
 "cells": [
  {
   "attachments": {},
   "cell_type": "markdown",
   "metadata": {},
   "source": [
    "Load the data set"
   ]
  },
  {
   "cell_type": "code",
   "execution_count": 1,
   "metadata": {},
   "outputs": [],
   "source": [
    "import numpy as np\n",
    "\n",
    "def loadData(data_set = None):\n",
    "\n",
    "    if (data_set == None):\n",
    "        return None\n",
    "    else:\n",
    "        data = []\n",
    "        fptr = open(data_set, \"r\")\n",
    "        lines = fptr.readlines()\n",
    "        for line in lines:\n",
    "            line = line.strip().split()\n",
    "            # if (line[-1] == -1):\n",
    "            #     continue\n",
    "            for i in range(len(line)):\n",
    "                line[i] = float(line[i])\n",
    "            # print(line)\n",
    "            data.append(line)\n",
    "        \n",
    "        return data\n",
    "\n",
    "data_set = loadData(\"3_19/visual_annotion_3_19.txt\")"
   ]
  },
  {
   "cell_type": "code",
   "execution_count": 2,
   "metadata": {},
   "outputs": [],
   "source": [
    "data_set = np.array(data_set)"
   ]
  },
  {
   "cell_type": "code",
   "execution_count": 3,
   "metadata": {},
   "outputs": [
    {
     "name": "stdout",
     "output_type": "stream",
     "text": [
      "26976\n"
     ]
    }
   ],
   "source": [
    "print(len(data_set))"
   ]
  },
  {
   "cell_type": "code",
   "execution_count": 4,
   "metadata": {},
   "outputs": [],
   "source": [
    "X = data_set[:, :-1]\n",
    "y = data_set[:, -1]\n",
    "\n",
    "# print(X[:5], Y[:5], data_set[:5])"
   ]
  },
  {
   "attachments": {},
   "cell_type": "markdown",
   "metadata": {},
   "source": [
    "Utility function that are used in every model"
   ]
  },
  {
   "cell_type": "code",
   "execution_count": 5,
   "metadata": {},
   "outputs": [],
   "source": [
    "from sklearn.metrics import accuracy_score, mean_absolute_error, mean_squared_error\n",
    "\n",
    "def printMetrics(y_test, y_pred):\n",
    "    print(\"Accuracy: \", accuracy_score(y_pred, y_test)*100)\n",
    "    print(\"Mean Squared Error: \", mean_squared_error(y_pred, y_test))\n",
    "    print(\"Mean Absolute Error: \", mean_absolute_error(y_pred, y_test))"
   ]
  },
  {
   "attachments": {},
   "cell_type": "markdown",
   "metadata": {},
   "source": [
    "Splitting the data set"
   ]
  },
  {
   "cell_type": "code",
   "execution_count": 6,
   "metadata": {},
   "outputs": [],
   "source": [
    "from sklearn.model_selection import train_test_split\n",
    "\n",
    "# splitting the data set\n",
    "X_train, X_test, y_train, y_test = train_test_split(X, y, test_size=0.2, random_state=42)"
   ]
  },
  {
   "attachments": {},
   "cell_type": "markdown",
   "metadata": {},
   "source": [
    "Model-1 Descision tree"
   ]
  },
  {
   "cell_type": "code",
   "execution_count": 7,
   "metadata": {},
   "outputs": [
    {
     "name": "stdout",
     "output_type": "stream",
     "text": [
      "Accuracy:  65.15937731653077\n",
      "Mean Squared Error:  0.39232765011119347\n",
      "Mean Absolute Error:  0.36304670126019273\n"
     ]
    }
   ],
   "source": [
    "# Importing libraries \n",
    "from sklearn.tree import DecisionTreeClassifier\n",
    "\n",
    "# Model training\n",
    "model_1 = DecisionTreeClassifier()\n",
    "model_1.fit(X_train, y_train)\n",
    "\n",
    "y_pred = model_1.predict(X_test)\n",
    "printMetrics(y_test, y_pred)"
   ]
  },
  {
   "attachments": {},
   "cell_type": "markdown",
   "metadata": {},
   "source": [
    "Model-2 Random Forest"
   ]
  },
  {
   "cell_type": "code",
   "execution_count": 8,
   "metadata": {},
   "outputs": [
    {
     "name": "stdout",
     "output_type": "stream",
     "text": [
      "Accuracy:  68.43958487768718\n",
      "Mean Squared Error:  0.3428465530022239\n",
      "Mean Absolute Error:  0.32468495181616014\n"
     ]
    }
   ],
   "source": [
    "from sklearn.ensemble import RandomForestClassifier\n",
    "\n",
    "model_2 = RandomForestClassifier()\n",
    "model_2.fit(X_train, y_train)\n",
    "\n",
    "y_pred = model_2.predict(X_test)\n",
    "printMetrics(y_test, y_pred)"
   ]
  },
  {
   "attachments": {},
   "cell_type": "markdown",
   "metadata": {},
   "source": [
    "Model-3 K-Nearest Neighbour"
   ]
  },
  {
   "cell_type": "code",
   "execution_count": 9,
   "metadata": {},
   "outputs": [
    {
     "name": "stdout",
     "output_type": "stream",
     "text": [
      "Accuracy:  68.55077835433654\n",
      "Mean Squared Error:  0.34840622683469236\n",
      "Mean Absolute Error:  0.3257968865826538\n"
     ]
    }
   ],
   "source": [
    "from sklearn.neighbors import KNeighborsClassifier\n",
    "\n",
    "model_3 = KNeighborsClassifier(n_neighbors=5)\n",
    "model_3.fit(X_train, y_train)\n",
    "\n",
    "y_pred = model_3.predict(X_test)\n",
    "printMetrics(y_test, y_pred)"
   ]
  },
  {
   "attachments": {},
   "cell_type": "markdown",
   "metadata": {},
   "source": [
    "Model-4 ANN"
   ]
  },
  {
   "cell_type": "code",
   "execution_count": null,
   "metadata": {},
   "outputs": [],
   "source": []
  },
  {
   "attachments": {},
   "cell_type": "markdown",
   "metadata": {},
   "source": [
    "Individual Class Accuracy"
   ]
  },
  {
   "cell_type": "code",
   "execution_count": 10,
   "metadata": {},
   "outputs": [
    {
     "name": "stdout",
     "output_type": "stream",
     "text": [
      "for True value\n",
      "\n",
      "Model: 1 Descison tree\n",
      "Accuracy:  81.14365183246073\n",
      "Mean Squared Error:  0.20844240837696335\n",
      "Mean Absolute Error:  0.19518979057591623\n",
      "\n",
      "Model: 2 Random Forest\n",
      "Accuracy:  86.06839005235602\n",
      "Mean Squared Error:  0.14471531413612565\n",
      "Mean Absolute Error:  0.14111583769633507\n",
      "\n",
      "Model:3 K-Nearest Neighbour\n",
      "Accuracy:  72.39037958115183\n",
      "Mean Squared Error:  0.29892015706806285\n",
      "Mean Absolute Error:  0.2837041884816754\n",
      "----------\n",
      "For False value\n",
      "\n",
      "Model: 1 Descison tree\n",
      "Accuracy:  91.83839479392624\n",
      "Mean Squared Error:  0.08975054229934924\n",
      "Mean Absolute Error:  0.08432754880694143\n",
      "\n",
      "Model: 2 Random Forest\n",
      "Accuracy:  88.95742950108459\n",
      "Mean Squared Error:  0.12384761388286335\n",
      "Mean Absolute Error:  0.11489967462039045\n",
      "\n",
      "Model:3 K-Nearest Neighbour\n",
      "Accuracy:  79.46041214750542\n",
      "Mean Squared Error:  0.23325650759219088\n",
      "Mean Absolute Error:  0.21468275488069413\n"
     ]
    }
   ],
   "source": [
    "X_true = []\n",
    "Y_true = []\n",
    "X_false = []\n",
    "Y_false = []\n",
    "\n",
    "for i in range(len(data_set)):\n",
    "    \n",
    "    if data_set[i, -1] == 1:\n",
    "        X_true.append(data_set[i, :-1])\n",
    "        Y_true.append(data_set[i, -1])\n",
    "    else:\n",
    "        X_false.append(data_set[i, :-1])\n",
    "        Y_false.append(data_set[i, -1])\n",
    "\n",
    "# print(data_set[:5], X_false[:5])\n",
    "X_train, X_test, y_train, y_test = train_test_split(X, y, test_size=0.2, random_state=42)\n",
    "\n",
    "# Model 1: Descision tree\n",
    "print(\"for True value\\n\")\n",
    "\n",
    "print(\"Model: 1 Descison tree\")\n",
    "y_pred = model_1.predict(X_true)\n",
    "printMetrics(y_pred, Y_true)\n",
    "\n",
    "# Model: 2 Random Forest\n",
    "print(\"\\nModel: 2 Random Forest\")\n",
    "y_pred = model_2.predict(X_true)\n",
    "printMetrics(y_pred, Y_true)\n",
    "\n",
    "# Model: 3 K-Nearest Neighbour\n",
    "print(\"\\nModel:3 K-Nearest Neighbour\")\n",
    "y_pred = model_3.predict(X_true)\n",
    "printMetrics(y_pred, Y_true)\n",
    "\n",
    "print(\"----------\\nFor False value\")\n",
    "print(\"\\nModel: 1 Descison tree\")\n",
    "y_pred = model_1.predict(X_false)\n",
    "printMetrics(y_pred, Y_false)\n",
    "\n",
    "# Model: 2 Random Forest\n",
    "print(\"\\nModel: 2 Random Forest\")\n",
    "y_pred = model_2.predict(X_false)\n",
    "printMetrics(y_pred, Y_false)\n",
    "\n",
    "# Model: 3 K-Nearest Neighbour\n",
    "print(\"\\nModel:3 K-Nearest Neighbour\")\n",
    "y_pred = model_3.predict(X_false)\n",
    "printMetrics(y_pred, Y_false)"
   ]
  },
  {
   "attachments": {},
   "cell_type": "markdown",
   "metadata": {},
   "source": [
    "For different size of train and test set"
   ]
  },
  {
   "cell_type": "code",
   "execution_count": 17,
   "metadata": {},
   "outputs": [
    {
     "data": {
      "text/plain": [
       "1.0"
      ]
     },
     "execution_count": 17,
     "metadata": {},
     "output_type": "execute_result"
    }
   ],
   "source": []
  },
  {
   "attachments": {},
   "cell_type": "markdown",
   "metadata": {},
   "source": [
    "find the breakpoint between true and false"
   ]
  },
  {
   "cell_type": "code",
   "execution_count": 11,
   "metadata": {},
   "outputs": [
    {
     "name": "stdout",
     "output_type": "stream",
     "text": [
      "26 26\n"
     ]
    }
   ],
   "source": [
    "t_to_f = []\n",
    "f_to_t = []\n",
    "\n",
    "for i in range(len(data_set) - 1):\n",
    "\n",
    "    difference = lambda x, y : [a - b for a, b in zip(x, y)]\n",
    "    if data_set[i][-1] == 0 and data_set[i + 1][-1] == 1:\n",
    "        temp = difference(data_set[i], data_set[i + 1])\n",
    "        f_to_t.append(temp)\n",
    "    elif data_set[i][-1] == 1 and data_set[i + 1][-1] == 0:\n",
    "        temp = difference(data_set[i], data_set[i + 1])\n",
    "        t_to_f.append(temp)\n",
    "\n",
    "print(len(t_to_f), len(f_to_t))"
   ]
  },
  {
   "cell_type": "code",
   "execution_count": 12,
   "metadata": {},
   "outputs": [
    {
     "data": {
      "text/plain": [
       "[[3.0, -8.0, -3.0, 1.0],\n",
       " [-2.0, 3.0, -2.0, 1.0],\n",
       " [-1.0, 0.0, -1.0, 1.0],\n",
       " [13.0, -8.0, 7.0, 1.0],\n",
       " [9.0, 8.0, -3.0, 1.0],\n",
       " [0.0, -1.0, 0.0, 1.0],\n",
       " [7.0, -12.0, -5.0, 1.0],\n",
       " [-1.0, 1.0, 1.0, 1.0],\n",
       " [1.0, 0.0, 7.0, 1.0],\n",
       " [9.0, -2.0, -10.0, 1.0],\n",
       " [12.0, -8.0, 4.0, 1.0],\n",
       " [-1.0, -2.0, 2.0, 1.0],\n",
       " [8.0, -2.0, 7.0, 1.0],\n",
       " [-1.0, -5.0, -1.0, 1.0],\n",
       " [4.0, 1.0, -1.0, 1.0],\n",
       " [0.0, 7.0, 5.0, 1.0],\n",
       " [-4.0, 14.0, -9.0, 1.0],\n",
       " [-3.0, 1.0, 0.0, 1.0],\n",
       " [5.0, -2.0, 5.0, 1.0],\n",
       " [1.0, 1.0, 6.0, 1.0],\n",
       " [-1.0, -1.0, 3.0, 1.0],\n",
       " [-14.0, 5.0, 8.0, 1.0],\n",
       " [1.0, -5.0, -1.0, 1.0],\n",
       " [0.0, -7.0, -14.0, 1.0],\n",
       " [5.0, -5.0, -6.0, 1.0],\n",
       " [0.0, 0.0, 0.0, 1.0]]"
      ]
     },
     "execution_count": 12,
     "metadata": {},
     "output_type": "execute_result"
    }
   ],
   "source": [
    "t_to_f"
   ]
  },
  {
   "cell_type": "code",
   "execution_count": 13,
   "metadata": {},
   "outputs": [
    {
     "data": {
      "text/plain": [
       "[[2.0, -5.0, -3.0, -1.0],\n",
       " [-5.0, 2.0, -1.0, -1.0],\n",
       " [1.0, -5.0, 0.0, -1.0],\n",
       " [14.0, -18.0, 6.0, -1.0],\n",
       " [-8.0, -27.0, 5.0, -1.0],\n",
       " [3.0, -1.0, -6.0, -1.0],\n",
       " [-6.0, -7.0, -9.0, -1.0],\n",
       " [0.0, 0.0, -5.0, -1.0],\n",
       " [1.0, 0.0, 0.0, -1.0],\n",
       " [-26.0, 13.0, -4.0, -1.0],\n",
       " [-10.0, -3.0, 0.0, -1.0],\n",
       " [-1.0, 7.0, 3.0, -1.0],\n",
       " [7.0, -1.0, -2.0, -1.0],\n",
       " [1.0, 1.0, 1.0, -1.0],\n",
       " [-2.0, 0.0, 0.0, -1.0],\n",
       " [1.0, -4.0, 1.0, -1.0],\n",
       " [-4.0, 3.0, 4.0, -1.0],\n",
       " [17.0, 17.0, 4.0, -1.0],\n",
       " [15.0, -12.0, 25.0, -1.0],\n",
       " [2.0, 8.0, 22.0, -1.0],\n",
       " [-9.0, 3.0, -21.0, -1.0],\n",
       " [3.0, 9.0, 0.0, -1.0],\n",
       " [-5.0, 5.0, -2.0, -1.0],\n",
       " [-2.0, -8.0, -2.0, -1.0],\n",
       " [5.0, -6.0, -4.0, -1.0],\n",
       " [1.0, 1.0, 4.0, -1.0]]"
      ]
     },
     "execution_count": 13,
     "metadata": {},
     "output_type": "execute_result"
    }
   ],
   "source": [
    "f_to_t"
   ]
  },
  {
   "cell_type": "code",
   "execution_count": null,
   "metadata": {},
   "outputs": [],
   "source": []
  },
  {
   "cell_type": "code",
   "execution_count": null,
   "metadata": {},
   "outputs": [],
   "source": []
  }
 ],
 "metadata": {
  "kernelspec": {
   "display_name": "Python 3",
   "language": "python",
   "name": "python3"
  },
  "language_info": {
   "codemirror_mode": {
    "name": "ipython",
    "version": 3
   },
   "file_extension": ".py",
   "mimetype": "text/x-python",
   "name": "python",
   "nbconvert_exporter": "python",
   "pygments_lexer": "ipython3",
   "version": "3.11.2"
  },
  "orig_nbformat": 4
 },
 "nbformat": 4,
 "nbformat_minor": 2
}
