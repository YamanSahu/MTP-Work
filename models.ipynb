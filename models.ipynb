{
 "cells": [
  {
   "attachments": {},
   "cell_type": "markdown",
   "metadata": {},
   "source": [
    "Load the data set"
   ]
  },
  {
   "cell_type": "code",
   "execution_count": 25,
   "metadata": {},
   "outputs": [],
   "source": [
    "import numpy as np\n",
    "\n",
    "def loadData(data_set = None):\n",
    "\n",
    "    if (data_set == None):\n",
    "        return None\n",
    "    else:\n",
    "        data = []\n",
    "        fptr = open(data_set, \"r\")\n",
    "        lines = fptr.readlines()\n",
    "        for line in lines:\n",
    "            line = line.strip().split()\n",
    "            # if (line[-1] == -1):\n",
    "            #     continue\n",
    "            for i in range(len(line)):\n",
    "                line[i] = float(line[i])\n",
    "            # print(line)\n",
    "            data.append(line)\n",
    "        \n",
    "        return np.array(data)\n",
    "\n",
    "data_set = loadData(\"3_19/visual_annotion_3_19.txt\")"
   ]
  },
  {
   "cell_type": "code",
   "execution_count": 26,
   "metadata": {},
   "outputs": [
    {
     "name": "stdout",
     "output_type": "stream",
     "text": [
      "26976\n"
     ]
    }
   ],
   "source": [
    "print(len(data_set))"
   ]
  },
  {
   "cell_type": "code",
   "execution_count": 27,
   "metadata": {},
   "outputs": [
    {
     "data": {
      "text/plain": [
       "21580.800000000003"
      ]
     },
     "execution_count": 27,
     "metadata": {},
     "output_type": "execute_result"
    }
   ],
   "source": [
    "0.8 * 26976"
   ]
  },
  {
   "cell_type": "code",
   "execution_count": 28,
   "metadata": {},
   "outputs": [],
   "source": [
    "X = data_set[:, :-1]\n",
    "y = data_set[:, -1]\n",
    "\n",
    "# print(X[:5], Y[:5], data_set[:5])"
   ]
  },
  {
   "cell_type": "code",
   "execution_count": 29,
   "metadata": {},
   "outputs": [],
   "source": [
    "another_data_Set = np.array(loadData(\"5_11/visual_annotion_5_11.txt\"))\n",
    "\n",
    "X_new = another_data_Set[:, :-1]\n",
    "Y_new = another_data_Set[:, -1]"
   ]
  },
  {
   "attachments": {},
   "cell_type": "markdown",
   "metadata": {},
   "source": [
    "Utility function that are used in every model"
   ]
  },
  {
   "cell_type": "code",
   "execution_count": 30,
   "metadata": {},
   "outputs": [],
   "source": [
    "from sklearn.metrics import accuracy_score, mean_absolute_error, mean_squared_error\n",
    "\n",
    "def printMetrics(y_test, y_pred):\n",
    "    print(\"Accuracy: \", accuracy_score(y_pred, y_test)*100)\n",
    "    print(\"Mean Squared Error: \", mean_squared_error(y_pred, y_test))\n",
    "    print(\"Mean Absolute Error: \", mean_absolute_error(y_pred, y_test))"
   ]
  },
  {
   "attachments": {},
   "cell_type": "markdown",
   "metadata": {},
   "source": [
    "Splitting the data set"
   ]
  },
  {
   "cell_type": "code",
   "execution_count": 31,
   "metadata": {},
   "outputs": [],
   "source": [
    "from sklearn.model_selection import train_test_split\n",
    "\n",
    "# splitting the data set\n",
    "X_train, X_test, y_train, y_test = train_test_split(X, y, test_size=0.2, random_state=42)"
   ]
  },
  {
   "attachments": {},
   "cell_type": "markdown",
   "metadata": {},
   "source": [
    "Model-1 Descision tree"
   ]
  },
  {
   "cell_type": "code",
   "execution_count": 32,
   "metadata": {},
   "outputs": [
    {
     "name": "stdout",
     "output_type": "stream",
     "text": [
      "Accuracy:  63.458702064896755\n",
      "Mean Squared Error:  0.4821165191740413\n",
      "Mean Absolute Error:  0.4043141592920354\n"
     ]
    }
   ],
   "source": [
    "# Importing libraries \n",
    "from sklearn.tree import DecisionTreeClassifier\n",
    "\n",
    "# Model training\n",
    "model_1 = DecisionTreeClassifier()\n",
    "model_1.fit(X, y)\n",
    "\n",
    "y_pred = model_1.predict(X_new)\n",
    "printMetrics(Y_new, y_pred)"
   ]
  },
  {
   "attachments": {},
   "cell_type": "markdown",
   "metadata": {},
   "source": [
    "Model-2 Random Forest"
   ]
  },
  {
   "cell_type": "code",
   "execution_count": 33,
   "metadata": {},
   "outputs": [
    {
     "name": "stdout",
     "output_type": "stream",
     "text": [
      "Accuracy:  92.0126019273536\n",
      "Mean Squared Error:  0.08209785025945145\n",
      "Mean Absolute Error:  0.08061527057079318\n"
     ]
    }
   ],
   "source": [
    "from sklearn.ensemble import RandomForestClassifier\n",
    "\n",
    "model_2 = RandomForestClassifier()\n",
    "model_2.fit(X, y)\n",
    "\n",
    "y_pred = model_2.predict(X_test)\n",
    "printMetrics(y_test, y_pred)"
   ]
  },
  {
   "attachments": {},
   "cell_type": "markdown",
   "metadata": {},
   "source": [
    "Model-3 K-Nearest Neighbour"
   ]
  },
  {
   "cell_type": "code",
   "execution_count": 34,
   "metadata": {},
   "outputs": [
    {
     "name": "stdout",
     "output_type": "stream",
     "text": [
      "Accuracy:  77.79836916234247\n",
      "Mean Squared Error:  0.24147516679021497\n",
      "Mean Absolute Error:  0.22850259451445515\n"
     ]
    }
   ],
   "source": [
    "from sklearn.neighbors import KNeighborsClassifier\n",
    "\n",
    "model_3 = KNeighborsClassifier(n_neighbors=5)\n",
    "model_3.fit(X, y)\n",
    "\n",
    "y_pred = model_3.predict(X_test)\n",
    "printMetrics(y_test, y_pred)"
   ]
  },
  {
   "attachments": {},
   "cell_type": "markdown",
   "metadata": {},
   "source": [
    "Model-4 ANN"
   ]
  },
  {
   "cell_type": "code",
   "execution_count": null,
   "metadata": {},
   "outputs": [],
   "source": []
  },
  {
   "attachments": {},
   "cell_type": "markdown",
   "metadata": {},
   "source": [
    "Individual Class Accuracy"
   ]
  },
  {
   "cell_type": "code",
   "execution_count": 44,
   "metadata": {},
   "outputs": [
    {
     "name": "stdout",
     "output_type": "stream",
     "text": [
      "Model                  True Accuracy    False Accuracy\n",
      "-------------------  ---------------  ----------------\n",
      "Descision tree               85.6512           96.7665\n",
      "Random Forest                88.8743           94.0957\n",
      "K-Nearest Neighbour          74.681            80.9992\n"
     ]
    }
   ],
   "source": [
    "from tabulate import tabulate\n",
    "\n",
    "def individualClassAccuracy(data_set):\n",
    "\n",
    "    X_true = []\n",
    "    y_true = []\n",
    "    X_false = []\n",
    "    y_false = []\n",
    "\n",
    "    X = data_set[:, :-1]\n",
    "    y = data_set[:, -1]\n",
    "\n",
    "    for i in range(len(data_set)):\n",
    "        \n",
    "        if data_set[i, -1] == 1:\n",
    "            X_true.append(data_set[i, :-1])\n",
    "            y_true.append(data_set[i, -1])\n",
    "        else:\n",
    "            X_false.append(data_set[i, :-1])\n",
    "            y_false.append(data_set[i, -1])\n",
    "\n",
    "    \n",
    "    outputs = [[\"Model\", \"True Accuracy\", \"False Accuracy\"]]\n",
    "\n",
    "    outputs.append([\"Descision tree\"])\n",
    "\n",
    "    # Model 1: Descision tree\n",
    "    # print(\"for True value\\n\")\n",
    "\n",
    "    y_pred = model_1.predict(X_true)\n",
    "    outputs[1].append(accuracy_score(y_true, y_pred) * 100)\n",
    "    y_pred = model_1.predict(X_false)\n",
    "    outputs[1].append(accuracy_score(y_pred, y_false) * 100)\n",
    "\n",
    "    # Model: 2 Random Forest\n",
    "    outputs.append([\"Random Forest\"])\n",
    "    y_pred = model_2.predict(X_true)\n",
    "    outputs[2].append(accuracy_score(y_true, y_pred) * 100)\n",
    "    y_pred = model_2.predict(X_false)\n",
    "    outputs[2].append(accuracy_score(y_pred, y_false) * 100)\n",
    "\n",
    "    # Model: 3 K-Nearest Neighbour\n",
    "    outputs.append([\"K-Nearest Neighbour\"])\n",
    "    y_pred = model_3.predict(X_true)\n",
    "    outputs[3].append(accuracy_score(y_true, y_pred) * 100)\n",
    "    y_pred = model_3.predict(X_false)\n",
    "    outputs[3].append(accuracy_score(y_pred, y_false) * 100)\n",
    "\n",
    "    print(tabulate(outputs, headers=\"firstrow\"))\n",
    "\n",
    "individualClassAccuracy(data_set)"
   ]
  },
  {
   "attachments": {},
   "cell_type": "markdown",
   "metadata": {},
   "source": [
    "Individual Accuaracy utility function "
   ]
  },
  {
   "cell_type": "code",
   "execution_count": 43,
   "metadata": {},
   "outputs": [
    {
     "name": "stdout",
     "output_type": "stream",
     "text": [
      "                                M    o    d    e    l\n",
      "--  --  --  --  --  --  --  --  ---  ---  ---  ---  ---\n",
      "T   r   u   e       A   c   c   u    r    a    c    y\n",
      "F   a   l   s   e       A   c   c    u    r    a    c\n"
     ]
    }
   ],
   "source": [
    "\n",
    "\n",
    "def runAllModelsIndividual(data_set):\n",
    "\n",
    "    output = [[\"Model\", \"True Accuracy\", \"False Accuracy\"]]\n",
    "    \n",
    "\n",
    "runAllModelsIndividual(data_set)"
   ]
  },
  {
   "attachments": {},
   "cell_type": "markdown",
   "metadata": {},
   "source": [
    "find the breakpoint between true and false"
   ]
  },
  {
   "cell_type": "code",
   "execution_count": null,
   "metadata": {},
   "outputs": [],
   "source": [
    "t_to_f = []\n",
    "f_to_t = []\n",
    "\n",
    "for i in range(len(data_set) - 1):\n",
    "\n",
    "    difference = lambda x, y : [a - b for a, b in zip(x, y)]\n",
    "    if data_set[i][-1] == 0 and data_set[i + 1][-1] == 1:\n",
    "        temp = difference(data_set[i], data_set[i + 1])\n",
    "        f_to_t.append(temp)\n",
    "    elif data_set[i][-1] == 1 and data_set[i + 1][-1] == 0:\n",
    "        temp = difference(data_set[i], data_set[i + 1])\n",
    "        t_to_f.append(temp)\n",
    "\n",
    "print(len(t_to_f), len(f_to_t))"
   ]
  },
  {
   "attachments": {},
   "cell_type": "markdown",
   "metadata": {},
   "source": [
    "Run models at different size"
   ]
  },
  {
   "cell_type": "code",
   "execution_count": 22,
   "metadata": {},
   "outputs": [],
   "source": [
    "from sklearn.model_selection import train_test_split\n",
    "from sklearn.tree import DecisionTreeClassifier\n",
    "from sklearn.ensemble import RandomForestClassifier\n",
    "from sklearn.neighbors import KNeighborsClassifier\n",
    "from sklearn.metrics import accuracy_score\n",
    "\n",
    "\n",
    "def runModelAtSize(split_ratio, model_name, X, y):\n",
    "    \n",
    "    output = [round(split_ratio, 1), model_name]\n",
    "    X_train, X_test, y_train, y_test = train_test_split(X, y, test_size=0.2, random_state=42)\n",
    "\n",
    "    if model_name == \"Descison tree\":\n",
    "        model = DecisionTreeClassifier()\n",
    "        model.fit(X_train, y_train)\n",
    "\n",
    "        # Train Accuracy\n",
    "        y_pred = model.predict(X_train)\n",
    "        output.append(accuracy_score(y_pred, y_train)*100)\n",
    "\n",
    "        # Test Accuracy\n",
    "        y_pred = model.predict(X_test)\n",
    "        output.append(accuracy_score(y_pred, y_test)*100)\n",
    "    \n",
    "    elif model_name == \"Random Forest\":\n",
    "        model = RandomForestClassifier()\n",
    "        model.fit(X_train, y_train)\n",
    "\n",
    "        # Train Accuracy\n",
    "        y_pred = model.predict(X_train)\n",
    "        output.append(accuracy_score(y_pred, y_train)*100)\n",
    "\n",
    "        # Test Accuracy\n",
    "        y_pred = model.predict(X_test)\n",
    "        output.append(accuracy_score(y_pred, y_test)*100)\n",
    "    \n",
    "    elif model_name == \"KNN\":\n",
    "        model = KNeighborsClassifier()\n",
    "        model.fit(X_train, y_train)\n",
    "\n",
    "        # Train Accuracy\n",
    "        y_pred = model.predict(X_train)\n",
    "        output.append(accuracy_score(y_pred, y_train)*100)\n",
    "\n",
    "        # Test Accuracy\n",
    "        y_pred = model.predict(X_test)\n",
    "        output.append(accuracy_score(y_pred, y_test)*100)\n",
    "    \n",
    "    return output\n",
    "\n"
   ]
  },
  {
   "attachments": {},
   "cell_type": "markdown",
   "metadata": {},
   "source": [
    "Utility function that run all the models"
   ]
  },
  {
   "cell_type": "code",
   "execution_count": 23,
   "metadata": {},
   "outputs": [
    {
     "name": "stdout",
     "output_type": "stream",
     "text": [
      "Split ratio    Model          Train Accuracy     Test Accuracy\n",
      "-------------  -------------  -----------------  -----------------\n",
      "0.2            Descison tree  92.451343836886    64.89992587101557\n",
      "0.2            Random Forest  92.451343836886    68.27279466271312\n",
      "0.2            KNN            78.18350324374421  68.55077835433654\n",
      "-------------  -------------  -------------      -------------\n",
      "0.3            Descison tree  92.451343836886    65.28910303928836\n",
      "0.3            Random Forest  92.44670991658943  68.30985915492957\n",
      "0.3            KNN            78.18350324374421  68.55077835433654\n",
      "-------------  -------------  -------------      -------------\n",
      "0.4            Descison tree  92.451343836886    65.10378057820608\n",
      "0.4            Random Forest  92.451343836886    67.69829503335805\n",
      "0.4            KNN            78.18350324374421  68.55077835433654\n",
      "-------------  -------------  -------------      -------------\n",
      "0.5            Descison tree  92.451343836886    64.9184581171238\n",
      "0.5            Random Forest  92.451343836886    68.36545589325426\n",
      "0.5            KNN            78.18350324374421  68.55077835433654\n",
      "-------------  -------------  -------------      -------------\n",
      "0.6            Descison tree  92.451343836886    64.95552260934025\n",
      "0.6            Random Forest  92.44670991658943  68.64343958487768\n",
      "0.6            KNN            78.18350324374421  68.55077835433654\n",
      "-------------  -------------  -------------      -------------\n"
     ]
    }
   ],
   "source": [
    "from tabulate import tabulate\n",
    "\n",
    "def runModels(data_set = None):\n",
    "    X = data_set[:, :-1]\n",
    "    y = data_set[:, -1]\n",
    "\n",
    "    \n",
    "    outputs = [[\"Split ratio\", \"Model\", \"Train Accuracy\", \"Test Accuracy\"]]\n",
    "    \n",
    "    # Run model 1: Descision tree\n",
    "    split_ratio = 0.2\n",
    "    for i in range(5):\n",
    "        outputs.append(runModelAtSize(split_ratio, \"Descison tree\", X, y))\n",
    "        outputs.append(runModelAtSize(split_ratio, \"Random Forest\", X, y))\n",
    "        outputs.append(runModelAtSize(split_ratio, \"KNN\", X, y))\n",
    "\n",
    "        outputs.append([\"-------------\"] * len(outputs[0]))\n",
    "        split_ratio += 0.1\n",
    "\n",
    "    print(tabulate(outputs, headers=\"firstrow\"))\n",
    "\n",
    "runModels(data_set)"
   ]
  },
  {
   "cell_type": "code",
   "execution_count": null,
   "metadata": {},
   "outputs": [],
   "source": []
  }
 ],
 "metadata": {
  "kernelspec": {
   "display_name": "Python 3",
   "language": "python",
   "name": "python3"
  },
  "language_info": {
   "codemirror_mode": {
    "name": "ipython",
    "version": 3
   },
   "file_extension": ".py",
   "mimetype": "text/x-python",
   "name": "python",
   "nbconvert_exporter": "python",
   "pygments_lexer": "ipython3",
   "version": "3.11.2"
  },
  "orig_nbformat": 4
 },
 "nbformat": 4,
 "nbformat_minor": 2
}
