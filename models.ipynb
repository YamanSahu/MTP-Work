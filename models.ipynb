{
 "cells": [
  {
   "attachments": {},
   "cell_type": "markdown",
   "metadata": {},
   "source": [
    "Load the data set"
   ]
  },
  {
   "cell_type": "code",
   "execution_count": 2,
   "metadata": {},
   "outputs": [],
   "source": [
    "import numpy as np\n",
    "\n",
    "def loadData(data_set = None):\n",
    "\n",
    "    if (data_set == None):\n",
    "        return None\n",
    "    else:\n",
    "        data = []\n",
    "        fptr = open(data_set, \"r\")\n",
    "        lines = fptr.readlines()\n",
    "        for line in lines:\n",
    "            line = line.strip().split()\n",
    "            # if (line[-1] == -1):\n",
    "            #     continue\n",
    "            for i in range(len(line)):\n",
    "                line[i] = float(line[i])\n",
    "            # print(line)\n",
    "            data.append(line)\n",
    "        \n",
    "        return data\n",
    "\n",
    "data_set = loadData(\"5_11/visual_annotion_5_11.txt\")"
   ]
  },
  {
   "cell_type": "code",
   "execution_count": 3,
   "metadata": {},
   "outputs": [],
   "source": [
    "data_set = np.array(data_set)"
   ]
  },
  {
   "cell_type": "code",
   "execution_count": 10,
   "metadata": {},
   "outputs": [
    {
     "name": "stdout",
     "output_type": "stream",
     "text": [
      "[[-67.  13.  11.   0.]\n",
      " [-61.  17.  23.   0.]\n",
      " [-65.  18.  25.   0.]\n",
      " [-58.  20.  25.   0.]\n",
      " [-58.  20.  21.   0.]]\n"
     ]
    }
   ],
   "source": [
    "print(data_set[:5])"
   ]
  },
  {
   "cell_type": "code",
   "execution_count": 4,
   "metadata": {},
   "outputs": [],
   "source": [
    "X = data_set[:, :-1]\n",
    "y = data_set[:, -1]\n",
    "\n",
    "# print(X[:5], Y[:5], data_set[:5])"
   ]
  },
  {
   "attachments": {},
   "cell_type": "markdown",
   "metadata": {},
   "source": [
    "Utility function that are used in every model"
   ]
  },
  {
   "cell_type": "code",
   "execution_count": 5,
   "metadata": {},
   "outputs": [],
   "source": [
    "from sklearn.metrics import accuracy_score, mean_absolute_error, mean_squared_error\n",
    "\n",
    "def printMetrics(y_test, y_pred):\n",
    "    print(\"Accuracy: \", accuracy_score(y_pred, y_test)*100)\n",
    "    print(\"Mean Squared Error: \", mean_squared_error(y_pred, y_test))\n",
    "    print(\"Mean Absolute Error: \", mean_absolute_error(y_pred, y_test))"
   ]
  },
  {
   "attachments": {},
   "cell_type": "markdown",
   "metadata": {},
   "source": [
    "Splitting the data set"
   ]
  },
  {
   "cell_type": "code",
   "execution_count": 6,
   "metadata": {},
   "outputs": [],
   "source": [
    "from sklearn.model_selection import train_test_split\n",
    "\n",
    "# splitting the data set\n",
    "X_train, X_test, y_train, y_test = train_test_split(X, y, test_size=0.2, random_state=42)"
   ]
  },
  {
   "attachments": {},
   "cell_type": "markdown",
   "metadata": {},
   "source": [
    "Model-1 Descision tree"
   ]
  },
  {
   "cell_type": "code",
   "execution_count": 15,
   "metadata": {},
   "outputs": [
    {
     "name": "stdout",
     "output_type": "stream",
     "text": [
      "Accuracy:  73.13364055299539\n",
      "Mean Squared Error:  0.36820276497695853\n",
      "Mean Absolute Error:  0.30184331797235026\n"
     ]
    }
   ],
   "source": [
    "# Importing libraries \n",
    "from sklearn.tree import DecisionTreeClassifier\n",
    "\n",
    "# Model training\n",
    "model_1 = DecisionTreeClassifier()\n",
    "model_1.fit(X_train, y_train)\n",
    "\n",
    "y_pred = model_1.predict(X_test)\n",
    "printMetrics(y_test, y_pred)"
   ]
  },
  {
   "attachments": {},
   "cell_type": "markdown",
   "metadata": {},
   "source": [
    "Model-2 Random Forest"
   ]
  },
  {
   "cell_type": "code",
   "execution_count": 16,
   "metadata": {},
   "outputs": [
    {
     "name": "stdout",
     "output_type": "stream",
     "text": [
      "Accuracy:  77.64976958525345\n",
      "Mean Squared Error:  0.29539170506912443\n",
      "Mean Absolute Error:  0.24746543778801844\n"
     ]
    }
   ],
   "source": [
    "from sklearn.ensemble import RandomForestClassifier\n",
    "\n",
    "model_2 = RandomForestClassifier()\n",
    "model_2.fit(X_train, y_train)\n",
    "\n",
    "y_pred = model_2.predict(X_test)\n",
    "printMetrics(y_test, y_pred)"
   ]
  },
  {
   "attachments": {},
   "cell_type": "markdown",
   "metadata": {},
   "source": [
    "Model-3 K-Nearest Neighbour"
   ]
  },
  {
   "cell_type": "code",
   "execution_count": 17,
   "metadata": {},
   "outputs": [
    {
     "name": "stdout",
     "output_type": "stream",
     "text": [
      "Accuracy:  78.89400921658986\n",
      "Mean Squared Error:  0.280184331797235\n",
      "Mean Absolute Error:  0.23410138248847925\n"
     ]
    }
   ],
   "source": [
    "from sklearn.neighbors import KNeighborsClassifier\n",
    "\n",
    "model_3 = KNeighborsClassifier(n_neighbors=5)\n",
    "model_3.fit(X_train, y_train)\n",
    "\n",
    "y_pred = model_3.predict(X_test)\n",
    "printMetrics(y_test, y_pred)"
   ]
  },
  {
   "attachments": {},
   "cell_type": "markdown",
   "metadata": {},
   "source": [
    "Model-4 ANN"
   ]
  },
  {
   "cell_type": "code",
   "execution_count": null,
   "metadata": {},
   "outputs": [],
   "source": []
  },
  {
   "attachments": {},
   "cell_type": "markdown",
   "metadata": {},
   "source": [
    "Individual Class Accuracy"
   ]
  },
  {
   "cell_type": "code",
   "execution_count": 23,
   "metadata": {},
   "outputs": [
    {
     "name": "stdout",
     "output_type": "stream",
     "text": [
      "for True value\n",
      "\n",
      "Model: 1 Descison tree\n",
      "Accuracy:  91.04271933853929\n",
      "Mean Squared Error:  0.11208084519981626\n",
      "Mean Absolute Error:  0.09707548614301026\n",
      "\n",
      "Model: 2 Random Forest\n",
      "Accuracy:  94.82468228448936\n",
      "Mean Squared Error:  0.05956208850099525\n",
      "Mean Absolute Error:  0.05435614760373603\n",
      "\n",
      "Model:3 K-Nearest Neighbour\n",
      "Accuracy:  90.01684274996173\n",
      "Mean Squared Error:  0.12509569744296434\n",
      "Mean Absolute Error:  0.1082529474812433\n",
      "----------\n",
      "For False value\n",
      "\n",
      "Model: 1 Descison tree\n",
      "Accuracy:  92.23998146861247\n",
      "Mean Squared Error:  0.10956682881630762\n",
      "Mean Absolute Error:  0.08825573314801946\n",
      "\n",
      "Model: 2 Random Forest\n",
      "Accuracy:  88.7653463053046\n",
      "Mean Squared Error:  0.15334723187398658\n",
      "Mean Absolute Error:  0.12601343525596478\n",
      "\n",
      "Model:3 K-Nearest Neighbour\n",
      "Accuracy:  75.09844799629373\n",
      "Mean Squared Error:  0.3574241371322678\n",
      "Mean Absolute Error:  0.28515172573546443\n"
     ]
    }
   ],
   "source": [
    "X_true = []\n",
    "Y_true = []\n",
    "X_false = []\n",
    "Y_false = []\n",
    "\n",
    "for i in range(len(data_set)):\n",
    "    \n",
    "    if data_set[i, -1] == 1:\n",
    "        X_true.append(data_set[i, :-1])\n",
    "        Y_true.append(data_set[i, -1])\n",
    "    else:\n",
    "        X_false.append(data_set[i, :-1])\n",
    "        Y_false.append(data_set[i, -1])\n",
    "\n",
    "# print(data_set[:5], X_false[:5])\n",
    "X_train, X_test, y_train, y_test = train_test_split(X, y, test_size=0.2, random_state=42)\n",
    "\n",
    "# Model 1: Descision tree\n",
    "print(\"for True value\\n\")\n",
    "\n",
    "print(\"Model: 1 Descison tree\")\n",
    "y_pred = model_1.predict(X_true)\n",
    "printMetrics(y_pred, Y_true)\n",
    "\n",
    "# Model: 2 Random Forest\n",
    "print(\"\\nModel: 2 Random Forest\")\n",
    "y_pred = model_2.predict(X_true)\n",
    "printMetrics(y_pred, Y_true)\n",
    "\n",
    "# Model: 3 K-Nearest Neighbour\n",
    "print(\"\\nModel:3 K-Nearest Neighbour\")\n",
    "y_pred = model_3.predict(X_true)\n",
    "printMetrics(y_pred, Y_true)\n",
    "\n",
    "print(\"----------\\nFor False value\")\n",
    "print(\"\\nModel: 1 Descison tree\")\n",
    "y_pred = model_1.predict(X_false)\n",
    "printMetrics(y_pred, Y_false)\n",
    "\n",
    "# Model: 2 Random Forest\n",
    "print(\"\\nModel: 2 Random Forest\")\n",
    "y_pred = model_2.predict(X_false)\n",
    "printMetrics(y_pred, Y_false)\n",
    "\n",
    "# Model: 3 K-Nearest Neighbour\n",
    "print(\"\\nModel:3 K-Nearest Neighbour\")\n",
    "y_pred = model_3.predict(X_false)\n",
    "printMetrics(y_pred, Y_false)"
   ]
  },
  {
   "cell_type": "code",
   "execution_count": null,
   "metadata": {},
   "outputs": [],
   "source": []
  }
 ],
 "metadata": {
  "kernelspec": {
   "display_name": "Python 3",
   "language": "python",
   "name": "python3"
  },
  "language_info": {
   "codemirror_mode": {
    "name": "ipython",
    "version": 3
   },
   "file_extension": ".py",
   "mimetype": "text/x-python",
   "name": "python",
   "nbconvert_exporter": "python",
   "pygments_lexer": "ipython3",
   "version": "3.11.2"
  },
  "orig_nbformat": 4
 },
 "nbformat": 4,
 "nbformat_minor": 2
}
